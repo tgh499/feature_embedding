{
 "cells": [
  {
   "cell_type": "code",
   "execution_count": 1,
   "metadata": {},
   "outputs": [],
   "source": [
    "import pandas as pd\n",
    "import numpy as np\n",
    "from sklearn.datasets import load_sample_image\n",
    "from sklearn.feature_extraction import image\n",
    "import copy\n",
    "import math"
   ]
  },
  {
   "cell_type": "code",
   "execution_count": 2,
   "metadata": {},
   "outputs": [],
   "source": [
    "combined_result = []"
   ]
  },
  {
   "cell_type": "code",
   "execution_count": 3,
   "metadata": {},
   "outputs": [],
   "source": [
    "def entropy(signal):\n",
    "    '''\n",
    "    function returns entropy of a signal\n",
    "    signal must be a 1-D numpy array\n",
    "    '''\n",
    "    lensig=signal.size\n",
    "    symset=list(set(signal))\n",
    "    #numsym=len(symset)\n",
    "    propab=[np.size(signal[signal==i])/(1.0*lensig) for i in symset]\n",
    "    #print(propab)\n",
    "    ent= np.sum([p*np.log2(1.0/p) for p in propab])\n",
    "    #print(ent)\n",
    "    return ent"
   ]
  },
  {
   "cell_type": "code",
   "execution_count": 4,
   "metadata": {},
   "outputs": [],
   "source": [
    "def find_entropy_dataset(filename):\n",
    "        \n",
    "    filename = filename + \".csv\"\n",
    "    data = pd.read_csv(filename, header=None)\n",
    "\n",
    "    label = data.columns[0]\n",
    "    features= data.columns[1:]\n",
    "\n",
    "    data_features = data[features]\n",
    "    data_label = data[label]\n",
    "\n",
    "    data_features_np = data_features.to_numpy()\n",
    "    data_label_np = data_label.to_numpy()\n",
    "\n",
    "    result = []\n",
    "    for i in range(1000):\n",
    "        temp_result = []\n",
    "\n",
    "        sample = data_features_np[i]\n",
    "        temp_result.append(entropy(sample) / math.log2(65536))\n",
    "\n",
    "    result.append(np.mean(temp_result))\n",
    "        \n",
    "    print(result)"
   ]
  },
  {
   "cell_type": "code",
   "execution_count": 5,
   "metadata": {},
   "outputs": [
    {
     "name": "stdout",
     "output_type": "stream",
     "text": [
      "[0.5188094857134277]\n",
      "[0.2498272306191328]\n"
     ]
    }
   ],
   "source": [
    "print(\"\"find_entropy_dataset(\"test_quantized_randomized\")\n",
    "find_entropy_dataset(\"test_quantized_original\")\n"
   ]
  },
  {
   "cell_type": "code",
   "execution_count": null,
   "metadata": {},
   "outputs": [],
   "source": []
  }
 ],
 "metadata": {
  "kernelspec": {
   "display_name": "Python 3",
   "language": "python",
   "name": "python3"
  },
  "language_info": {
   "codemirror_mode": {
    "name": "ipython",
    "version": 3
   },
   "file_extension": ".py",
   "mimetype": "text/x-python",
   "name": "python",
   "nbconvert_exporter": "python",
   "pygments_lexer": "ipython3",
   "version": "3.7.7"
  }
 },
 "nbformat": 4,
 "nbformat_minor": 4
}
