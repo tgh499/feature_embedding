{
 "cells": [
  {
   "cell_type": "code",
   "execution_count": 1,
   "metadata": {},
   "outputs": [],
   "source": [
    "import numpy as np\n",
    "import pandas as pd"
   ]
  },
  {
   "cell_type": "code",
   "execution_count": 2,
   "metadata": {},
   "outputs": [],
   "source": [
    "def randomize_features(input_filename, output_filename):\n",
    "    data = pd.read_csv(input_filename, header=None)\n",
    "    \n",
    "    features = [i for i in range(1,785)] # column 0 is label, so starting from 1\n",
    "    np.random.seed(1337)\n",
    "    np.random.shuffle(features)\n",
    "    label = data.columns[0]\n",
    "    \n",
    "    data_features = data[features]\n",
    "    data_label = data[label]\n",
    "    \n",
    "    result = pd.concat([data_label, data_features], axis=1)\n",
    "    \n",
    "    result.to_csv(output_filename, encoding='utf-8', index=False, header=None)"
   ]
  },
  {
   "cell_type": "code",
   "execution_count": 3,
   "metadata": {},
   "outputs": [],
   "source": [
    "randomize_features('train.csv', 'train_randomized.csv')\n",
    "randomize_features('validation.csv', 'validation_randomized.csv')\n",
    "randomize_features('test.csv', 'test_randomized.csv')"
   ]
  },
  {
   "cell_type": "code",
   "execution_count": null,
   "metadata": {},
   "outputs": [],
   "source": [
    "\n",
    "\n"
   ]
  },
  {
   "cell_type": "code",
   "execution_count": null,
   "metadata": {},
   "outputs": [],
   "source": []
  }
 ],
 "metadata": {
  "kernelspec": {
   "display_name": "Python 3",
   "language": "python",
   "name": "python3"
  },
  "language_info": {
   "codemirror_mode": {
    "name": "ipython",
    "version": 3
   },
   "file_extension": ".py",
   "mimetype": "text/x-python",
   "name": "python",
   "nbconvert_exporter": "python",
   "pygments_lexer": "ipython3",
   "version": "3.7.7"
  }
 },
 "nbformat": 4,
 "nbformat_minor": 4
}
